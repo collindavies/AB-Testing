{
 "cells": [
  {
   "cell_type": "markdown",
   "metadata": {},
   "source": [
    "# AB Testing\n",
    "\n",
    "## Goal:\n",
    "Determine if a button on a landing page should be updated to a new design.\n",
    "\n",
    "## Metric:\n",
    "Click-through-rate (CTR); Increase CTR; CTR is a proxy for/measure of engagement.\n",
    "\n",
    "## Business Perspective:\n",
    "Does updating the button on the landing page lead to higher enrollment numbers?\n",
    "Increased Engagement -> Increased CTR -> Increased Enrollment\n",
    "\n",
    "## Practical significance:\n",
    "For a new button design to be worth the effort to implement, the team is\n",
    "targeting an increase in CTR of at least 10% with the new design."
   ]
  },
  {
   "cell_type": "code",
   "execution_count": null,
   "metadata": {},
   "outputs": [],
   "source": [
    "# Import libraries\n",
    "import numpy as np\n",
    "import pandas as pd\n",
    "from scipy.stats import norm\n",
    "import scipy.stats as stats\n",
    "import seaborn as sns\n",
    "import matplotlib.pyplot as plt"
   ]
  },
  {
   "cell_type": "markdown",
   "metadata": {},
   "source": [
    "# Load and review dataset"
   ]
  },
  {
   "cell_type": "code",
   "execution_count": null,
   "metadata": {},
   "outputs": [],
   "source": [
    "# Load click data\n",
    "df = pd.read_csv('click_data.csv', parse_dates=['timestamp'])\n",
    "\n",
    "# Initial data review\n",
    "print('Head \\n', df.head(), '\\n')\n",
    "print('Describe \\n', df.describe(include='int64'), '\\n')\n",
    "\n",
    "# Create new df describing users and counts per group\n",
    "dfCounts = (df.groupby('group').agg({'user_id': 'nunique', 'click': 'sum'})\n",
    "            .rename(columns={'user_id': 'users'}))\n",
    "print('Counts \\n', dfCounts, '\\n')\n",
    "\n",
    "# Create new df describing click through rates (CTRs)\n",
    "std_dev = lambda x: np.std(x, ddof = 0)\n",
    "std_err = lambda x: stats.sem(x, ddof=0)\n",
    "CTR = df.groupby('group')['click'].agg(['mean', std_dev, std_err])\n",
    "CTR.columns = ['CTR', 'std_deviation', 'std_error']\n",
    "print('CTR \\n', CTR)"
   ]
  },
  {
   "cell_type": "code",
   "execution_count": null,
   "metadata": {},
   "outputs": [],
   "source": [
    "# Plot CTR in Control and Experimental groups\n",
    "# Define custom color palette\n",
    "palette = {0:'orange', 1:'black'}\n",
    "\n",
    "# Plot click distribution for each group\n",
    "plt.figure(figsize=(6, 4))\n",
    "ax = sns.countplot(x='group', hue='click', data=df,\n",
    "                   order=['con', 'exp'], palette=palette)\n",
    "plt.title('Click distributions')\n",
    "plt.xlabel('Group')\n",
    "plt.ylabel('Count')\n",
    "plt.legend(title='Clicked?', labels=['No', 'Yes'])\n",
    "\n",
    "# Annotate bars with percentages\n",
    "for p in ax.patches[0:4]:\n",
    "    height = p.get_height()\n",
    "    group = 'exp' if p.get_x() < 0.5 else 'con'\n",
    "    click = 1 if p.get_x() % 1 > 0.5 else 0\n",
    "    total = dfCounts.loc[group]['users']\n",
    "    percentage = 100 * height / total\n",
    "    ax.text(p.get_x() + p.get_width() / 2., height + 50, f'{percentage:.0f}%',\n",
    "            ha='center', color='black', fontsize=10) "
   ]
  },
  {
   "cell_type": "markdown",
   "metadata": {},
   "source": [
    "# Statistical analysis"
   ]
  },
  {
   "cell_type": "code",
   "execution_count": null,
   "metadata": {},
   "outputs": [],
   "source": [
    "# Statistical analysis parameters\n",
    "alpha = 0.05 # 5%\n",
    "print('Alpha (the significance level):', alpha)\n",
    "\n",
    "delta = 0.1 # 10%\n",
    "print('Delta (the minimum detectable effect; practical significance):', delta)"
   ]
  },
  {
   "cell_type": "markdown",
   "metadata": {},
   "source": [
    "## Approach 1"
   ]
  },
  {
   "cell_type": "code",
   "execution_count": null,
   "metadata": {},
   "outputs": [],
   "source": [
    "# Get counts for users and clicks by group\n",
    "X_con = dfCounts.loc['con', 'click']\n",
    "X_exp = dfCounts.loc['exp', 'click']\n",
    "\n",
    "N_con = dfCounts.loc['con', 'users']\n",
    "N_exp = dfCounts.loc['exp', 'users']\n",
    "\n",
    "# Estimate click probability by group\n",
    "p_con_hat = X_con / N_con\n",
    "p_exp_hat = X_exp / N_exp\n",
    "\n",
    "print('Click probability in Control:', p_con_hat)\n",
    "print('Click probability in Experimental:', p_exp_hat)\n",
    "\n",
    "# Estimate pooled click probability\n",
    "p_pooled_hat = (X_con + X_exp) / (N_con + N_exp)\n",
    "print('Pooled click probability:', p_pooled_hat)"
   ]
  },
  {
   "cell_type": "code",
   "execution_count": null,
   "metadata": {},
   "outputs": [],
   "source": [
    "# Calculate pooled variance\n",
    "pooled_variance = p_pooled_hat * (1 - p_pooled_hat) * (1 / N_con + 1 / N_exp)\n",
    "print('Pooled variance:', pooled_variance)"
   ]
  },
  {
   "cell_type": "code",
   "execution_count": null,
   "metadata": {},
   "outputs": [],
   "source": [
    "# Calculate standard error\n",
    "SE = np.sqrt(pooled_variance)\n",
    "print('Standard error:', SE)\n",
    "\n",
    "# Test statistic for Z-test\n",
    "Test_stat = (p_con_hat - p_exp_hat) / SE\n",
    "print('Test statistic for Z-test (2 sample):', round(Test_stat, 2))\n",
    "\n",
    "# Critical value of the Z-test\n",
    "Z_crit = norm.ppf(1-alpha/2)\n",
    "print('Critical Z value for standard normal distribution:', round(Z_crit, 2))"
   ]
  },
  {
   "cell_type": "code",
   "execution_count": null,
   "metadata": {},
   "outputs": [],
   "source": [
    "# Calculate p-value\n",
    "p_value = 2 * norm.sf(abs(Test_stat))\n",
    "\n",
    "# Return decision on significance of experimental results\n",
    "print(f\"P-value of the Z-test (2 sample): {round(p_value, 3)}\")\n",
    "\n",
    "if p_value <= alpha:\n",
    "    print('The experimental results are statistically significant.')\n",
    "else:\n",
    "    print('The experimental results are NOT statistically significant.')"
   ]
  },
  {
   "cell_type": "code",
   "execution_count": null,
   "metadata": {},
   "outputs": [],
   "source": [
    "# Plot results\n",
    "# Parameters for the standard normal distribution\n",
    "mu = 0\n",
    "sigma = 1\n",
    "x = np.linspace(mu - 3 * sigma, mu + 3 * sigma, 100)\n",
    "y = norm.pdf(x, mu, sigma)\n",
    "\n",
    "# Create plot\n",
    "plt.plot(x, y, label='Standard Normal Distribution')\n",
    "plt.fill_between(x, y, where=(x > Z_crit) | (x< -Z_crit), color='red', alpha=0.5, label='Rejection Region')\n",
    "plt.axvline(Test_stat, color='green', linestyle='dashed', linewidth=2, label=f'Test Statistic= {Test_stat:.2f}')\n",
    "plt.axvline(Z_crit, color='blue', linestyle='dashed', linewidth=1, label=f'Z-critical = {Z_crit:.2f}')\n",
    "plt.axvline(-Z_crit, color='blue', linestyle='dashed', linewidth=1,)\n",
    "\n",
    "plt.xlabel('Z-value')\n",
    "plt.ylabel('Probability density')\n",
    "plt.title('Gaussian distribution with rejection region')\n",
    "plt.legend()\n",
    "plt.show()"
   ]
  },
  {
   "cell_type": "code",
   "execution_count": null,
   "metadata": {},
   "outputs": [],
   "source": [
    "# Confidence interval for a 2-sided Z-test\n",
    "CI = [\n",
    "    round((p_exp_hat - p_con_hat) - SE * Z_crit, 3),\n",
    "    round((p_exp_hat - p_con_hat) + SE * Z_crit, 3),\n",
    "]\n",
    "\n",
    "print('Confidence interval of the Z-test (2 sample):', CI)\n",
    "\n",
    "# Return result of practical significance\n",
    "lower_bound_CI = CI[0]\n",
    "\n",
    "if lower_bound_CI >= delta:\n",
    "    print(f'The results are practically significant at delta = {delta}.')\n",
    "else:\n",
    "    print(f'The results are NOT practically significant at delta = {delta}.')"
   ]
  },
  {
   "cell_type": "markdown",
   "metadata": {},
   "source": [
    "## Approach two"
   ]
  },
  {
   "cell_type": "code",
   "execution_count": null,
   "metadata": {},
   "outputs": [],
   "source": [
    "from statsmodels.stats.proportion import proportions_ztest, proportion_confint\n",
    "\n",
    "con_results = df[df['group'] == 'con']['click']\n",
    "exp_results = df[df['group'] == 'exp']['click']\n",
    "\n",
    "\n",
    "num_con = con_results.count()\n",
    "num_exp = exp_results.count()\n",
    "successes = [con_results.sum(), exp_results.sum()]\n",
    "nobs = [num_con, num_exp]\n",
    "\n",
    "z_stat, pval = proportions_ztest(successes, nobs = nobs)\n",
    "(lower_con, lower_exp), (upper_con, upper_exp) = proportion_confint(successes, nobs=nobs, alpha=0.05)\n",
    "\n",
    "print(f'Z Statistic: {z_stat:.2f}')\n",
    "print(f'P-Value: {pval:.3f}')\n",
    "print(f'Confidence interval (95%) for control group: [{lower_con:.3f}, {upper_con:.3f}]')\n",
    "print(f'Confidence interval (95%) for experimental group: [{lower_exp:.3f}, {upper_exp:.3f}]')\n",
    "\n",
    "# Plot confidence intervals\n",
    "plt.plot([1, 1], [lower_con, upper_con], label='Control', color='red')\n",
    "plt.plot([0.98, 1.02], [lower_con, lower_con], color='red')\n",
    "plt.plot([0.98, 1.02], [upper_con, upper_con], color='red')\n",
    "\n",
    "plt.plot([2, 2], [lower_exp, upper_exp], label='Experimental', color='blue')\n",
    "plt.plot([1.98, 2.02], [lower_exp, lower_exp], color='blue')\n",
    "plt.plot([1.98, 2.02], [upper_exp, upper_exp], color='blue')\n",
    "\n",
    "# plt.xlabel('Group')\n",
    "plt.xticks([0, 1, 2, 3], ['', 'Control', 'Experimental', ''])\n",
    "plt.ylabel('Click through rate')\n",
    "plt.title('Confidence intervals')\n",
    "plt.legend(title='Group')\n",
    "plt.show()\n",
    "\n",
    "# Determine practical significance\n",
    "## Compare lower bound of experimental CI to upper bound of control CI\n",
    "delta_CI = lower_exp - upper_con\n",
    "if delta_CI >= delta:\n",
    "    print(f'The results are practically significant at delta = {delta}.')\n",
    "else:\n",
    "    print(f'The results are NOT practically significant at delta = {delta}.')\n",
    "\n",
    "## Calculate effect size (Cohen's d)\n",
    "### Calculate pooled standard deviation\n",
    "pooled_std_dev = np.sqrt(((N_con-1) * CTR.loc['con', 'std_deviation'] + \n",
    "                         (N_exp-1) * CTR.loc['exp', 'std_deviation']) / \n",
    "                         (N_con + N_exp - 2))\n",
    "\n",
    "d = (CTR.loc['exp', 'CTR'] - CTR.loc['con', 'CTR']) / pooled_std_dev\n",
    "\n",
    "# Determine effect size\n",
    "if 0 <= d < 0.2:\n",
    "    effect = 'little or no effect'\n",
    "elif 0.2 <= d < 0.5:\n",
    "    effect = 'small effect size'\n",
    "elif 0.5 <= d < 0.8:\n",
    "    effect = 'medium effect size'\n",
    "elif d >= 0.8:\n",
    "    effect = 'large effect size'\n",
    "\n",
    "print(f\"Cohen's d for this experiment is {round(d, 2)}, which describes a {effect}.\")\n"
   ]
  }
 ],
 "metadata": {
  "kernelspec": {
   "display_name": "Python 3",
   "language": "python",
   "name": "python3"
  },
  "language_info": {
   "codemirror_mode": {
    "name": "ipython",
    "version": 3
   },
   "file_extension": ".py",
   "mimetype": "text/x-python",
   "name": "python",
   "nbconvert_exporter": "python",
   "pygments_lexer": "ipython3",
   "version": "3.11.9"
  }
 },
 "nbformat": 4,
 "nbformat_minor": 2
}
